{
  "nbformat": 4,
  "nbformat_minor": 0,
  "metadata": {
    "colab": {
      "provenance": [],
      "authorship_tag": "ABX9TyOP3/XSnpptERLnJI7oK3lu",
      "include_colab_link": true
    },
    "kernelspec": {
      "name": "python3",
      "display_name": "Python 3"
    },
    "language_info": {
      "name": "python"
    }
  },
  "cells": [
    {
      "cell_type": "markdown",
      "metadata": {
        "id": "view-in-github",
        "colab_type": "text"
      },
      "source": [
        "<a href=\"https://colab.research.google.com/github/kushal2022/Tensorflow/blob/main/Basic_tensorflow.ipynb\" target=\"_parent\"><img src=\"https://colab.research.google.com/assets/colab-badge.svg\" alt=\"Open In Colab\"/></a>"
      ]
    },
    {
      "cell_type": "code",
      "execution_count": 1,
      "metadata": {
        "colab": {
          "base_uri": "https://localhost:8080/"
        },
        "id": "o0CjoRrTvlkt",
        "outputId": "fa387100-6f92-4432-a53c-c257237ad3aa"
      },
      "outputs": [
        {
          "output_type": "stream",
          "name": "stdout",
          "text": [
            "2.18.0\n"
          ]
        }
      ],
      "source": [
        "import tensorflow as tf\n",
        "\n",
        "print(tf.__version__)"
      ]
    },
    {
      "cell_type": "code",
      "source": [
        "# Initialization of tensors\n",
        "\n",
        "x = tf.constant(4, shape=(1, 1), dtype=tf.float32)\n",
        "print(x)\n",
        "\n",
        "y = tf.constant([[1, 2, 3], [4, 5, 6]])\n",
        "print(y)\n",
        "\n",
        "z = tf.ones((3, 3))\n",
        "print(z)\n",
        "\n",
        "a = tf.zeros((2, 3))\n",
        "print(a)\n",
        "\n",
        "b = tf.eye(3)\n",
        "print(b)\n",
        "\n",
        "c = tf.random.normal((3, 3), mean=0, stddev=1)\n",
        "print(c)\n",
        "\n",
        "d = tf.random.uniform((1, 3), minval=2, maxval=3)\n",
        "print(d)\n",
        "\n",
        "e = tf.range(9)\n",
        "print(e)\n",
        "\n",
        "f = tf.range(start=1, limit=10, delta=2)\n",
        "print(f)\n",
        "\n",
        "f = tf.cast(f, dtype=tf.float64)\n",
        "print(f)"
      ],
      "metadata": {
        "colab": {
          "base_uri": "https://localhost:8080/"
        },
        "id": "o085_JUKwJFj",
        "outputId": "5331f495-ab3d-469d-b905-8551f1015b9f"
      },
      "execution_count": 8,
      "outputs": [
        {
          "output_type": "stream",
          "name": "stdout",
          "text": [
            "tf.Tensor([[4.]], shape=(1, 1), dtype=float32)\n",
            "tf.Tensor(\n",
            "[[1 2 3]\n",
            " [4 5 6]], shape=(2, 3), dtype=int32)\n",
            "tf.Tensor(\n",
            "[[1. 1. 1.]\n",
            " [1. 1. 1.]\n",
            " [1. 1. 1.]], shape=(3, 3), dtype=float32)\n",
            "tf.Tensor(\n",
            "[[0. 0. 0.]\n",
            " [0. 0. 0.]], shape=(2, 3), dtype=float32)\n",
            "tf.Tensor(\n",
            "[[1. 0. 0.]\n",
            " [0. 1. 0.]\n",
            " [0. 0. 1.]], shape=(3, 3), dtype=float32)\n",
            "tf.Tensor(\n",
            "[[ 0.1999639   1.3241417   0.5103711 ]\n",
            " [ 0.15391815 -0.38304177  1.6077626 ]\n",
            " [ 1.2706829   0.09633251 -0.50179785]], shape=(3, 3), dtype=float32)\n",
            "tf.Tensor([[2.6009946 2.344715  2.5132365]], shape=(1, 3), dtype=float32)\n",
            "tf.Tensor([0 1 2 3 4 5 6 7 8], shape=(9,), dtype=int32)\n",
            "tf.Tensor([1 3 5 7 9], shape=(5,), dtype=int32)\n",
            "tf.Tensor([1. 3. 5. 7. 9.], shape=(5,), dtype=float64)\n"
          ]
        }
      ]
    },
    {
      "cell_type": "code",
      "source": [
        "# Mathematical Operations\n",
        "x = tf.constant([1, 2, 3])\n",
        "y = tf.constant([9, 8, 7])\n",
        "\n",
        "z = tf.add(x, y)\n",
        "print(z)\n",
        "\n",
        "z = x + y\n",
        "print(z)\n",
        "\n",
        "z = tf.subtract(x, y)\n",
        "print(z)\n",
        "\n",
        "z = x - y\n",
        "print(z)\n",
        "\n",
        "z = tf.divide(x, y)\n",
        "print(z)\n",
        "\n",
        "z = x / y\n",
        "print(z)\n",
        "\n",
        "z = tf.multiply(x, y)\n",
        "print(z)\n",
        "\n",
        "z = x * y\n",
        "print(z)\n",
        "\n",
        "z = tf.tensordot(x, y, axes=1)\n",
        "print(z)\n",
        "\n",
        "z = tf.reduce_sum(x * y, axis=0)\n",
        "print(z)\n",
        "\n",
        "z = x ** 5\n",
        "print(z)\n",
        "\n",
        "# Indexing\n",
        "x = tf.random.normal((2, 3))\n",
        "print(x)\n",
        "print(x[0])\n",
        "print(x[1])\n",
        "print(x[0, :])\n",
        "\n",
        "# Reshaping\n",
        "x = tf.random.normal((2, 3))\n",
        "print(x)\n",
        "y = tf.reshape(x, (3, 2))\n",
        "print(y)\n",
        "z = tf.reshape(x, (-1, 2))\n",
        "print(z)"
      ],
      "metadata": {
        "colab": {
          "base_uri": "https://localhost:8080/"
        },
        "id": "pfLqjURuyqvY",
        "outputId": "ac596d1f-3bf3-4a4b-fded-e4899ac7b9cd"
      },
      "execution_count": 14,
      "outputs": [
        {
          "output_type": "stream",
          "name": "stdout",
          "text": [
            "tf.Tensor([10 10 10], shape=(3,), dtype=int32)\n",
            "tf.Tensor([10 10 10], shape=(3,), dtype=int32)\n",
            "tf.Tensor([-8 -6 -4], shape=(3,), dtype=int32)\n",
            "tf.Tensor([-8 -6 -4], shape=(3,), dtype=int32)\n",
            "tf.Tensor([0.11111111 0.25       0.42857143], shape=(3,), dtype=float64)\n",
            "tf.Tensor([0.11111111 0.25       0.42857143], shape=(3,), dtype=float64)\n",
            "tf.Tensor([ 9 16 21], shape=(3,), dtype=int32)\n",
            "tf.Tensor([ 9 16 21], shape=(3,), dtype=int32)\n",
            "tf.Tensor(46, shape=(), dtype=int32)\n",
            "tf.Tensor(46, shape=(), dtype=int32)\n",
            "tf.Tensor([  1  32 243], shape=(3,), dtype=int32)\n",
            "tf.Tensor(\n",
            "[[-1.6431023   0.01302742 -0.2729962 ]\n",
            " [-0.3394521   0.5049355  -0.01737508]], shape=(2, 3), dtype=float32)\n",
            "tf.Tensor([-1.6431023   0.01302742 -0.2729962 ], shape=(3,), dtype=float32)\n",
            "tf.Tensor([-0.3394521   0.5049355  -0.01737508], shape=(3,), dtype=float32)\n",
            "tf.Tensor([-1.6431023   0.01302742 -0.2729962 ], shape=(3,), dtype=float32)\n",
            "tf.Tensor(\n",
            "[[ 1.0452842  -0.17117214 -0.04154834]\n",
            " [-0.34158134  0.27833733 -0.6414792 ]], shape=(2, 3), dtype=float32)\n",
            "tf.Tensor(\n",
            "[[ 1.0452842  -0.17117214]\n",
            " [-0.04154834 -0.34158134]\n",
            " [ 0.27833733 -0.6414792 ]], shape=(3, 2), dtype=float32)\n",
            "tf.Tensor(\n",
            "[[ 1.0452842  -0.17117214]\n",
            " [-0.04154834 -0.34158134]\n",
            " [ 0.27833733 -0.6414792 ]], shape=(3, 2), dtype=float32)\n"
          ]
        }
      ]
    },
    {
      "cell_type": "code",
      "source": [],
      "metadata": {
        "id": "_uzLzDfP0XD9"
      },
      "execution_count": null,
      "outputs": []
    }
  ]
}